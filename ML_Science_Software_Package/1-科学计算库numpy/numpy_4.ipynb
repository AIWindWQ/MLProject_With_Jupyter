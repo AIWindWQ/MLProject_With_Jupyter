{
 "cells": [
  {
   "cell_type": "code",
   "execution_count": 1,
   "metadata": {},
   "outputs": [
    {
     "name": "stdout",
     "output_type": "stream",
     "text": [
      "[0 1 2]\n",
      "[1.         2.71828183 7.3890561 ]\n",
      "[0.         1.         1.41421356]\n"
     ]
    }
   ],
   "source": [
    "import numpy as np\n",
    "B = np.arange(3)\n",
    "print(B)\n",
    "print(np.exp(B))\n",
    "print(np.sqrt(B))"
   ]
  },
  {
   "cell_type": "code",
   "execution_count": 6,
   "metadata": {},
   "outputs": [
    {
     "name": "stdout",
     "output_type": "stream",
     "text": [
      "[[9. 1. 9. 7.]\n",
      " [5. 9. 4. 8.]\n",
      " [9. 8. 1. 7.]]\n",
      "(3, 4)\n",
      "[9. 1. 9. 7. 5. 9. 4. 8. 9. 8. 1. 7.]\n",
      "(12,)\n",
      "(6, 2)\n",
      "[[9. 1.]\n",
      " [9. 7.]\n",
      " [5. 9.]\n",
      " [4. 8.]\n",
      " [9. 8.]\n",
      " [1. 7.]]\n",
      "[[9. 9. 5. 4. 9. 1.]\n",
      " [1. 7. 9. 8. 8. 7.]]\n",
      "(3, 4)\n"
     ]
    }
   ],
   "source": [
    "#Return the floor of the input\n",
    "a = np.floor(10*np.random.random((3,4)))  # 向下取整操作\n",
    "print(a)\n",
    "print(a.shape)\n",
    "## flatten the array\n",
    "a_vector = a.ravel()\n",
    "print(a_vector)     # 拉伸成向量\n",
    "print(a_vector.shape)\n",
    "a.shape = (6, 2)\n",
    "print(a.shape)\n",
    "print(a) \n",
    "print(a.T)  # 对a进行Transpose\n",
    "\n",
    "#If a dimension is given as -1 in a reshaping operation, the other dimensions are automatically calculated:\n",
    "a.shape = (3,-1)   # 只改变一个维度，另一个维度，系统来自动确定\n",
    "print(a.shape)"
   ]
  },
  {
   "cell_type": "code",
   "execution_count": 10,
   "metadata": {},
   "outputs": [
    {
     "name": "stdout",
     "output_type": "stream",
     "text": [
      "[[2. 8.]\n",
      " [7. 3.]]\n",
      "---\n",
      "[[2. 0.]\n",
      " [8. 9.]]\n",
      "---\n",
      "[[2. 8. 2. 0.]\n",
      " [7. 3. 8. 9.]]\n",
      "[[2. 8.]\n",
      " [7. 3.]\n",
      " [2. 0.]\n",
      " [8. 9.]]\n"
     ]
    }
   ],
   "source": [
    "a = np.floor(10*np.random.random((2,2)))\n",
    "b = np.floor(10*np.random.random((2,2)))\n",
    "print(a)\n",
    "print('---')\n",
    "print(b)\n",
    "print('---')\n",
    "print(np.hstack((a,b)))   # 水平拼接，即按行进行拼接\n",
    "print(np.vstack((a,b)))     # 垂直拼接，即按列进行拼接"
   ]
  },
  {
   "cell_type": "code",
   "execution_count": 11,
   "metadata": {},
   "outputs": [
    {
     "name": "stdout",
     "output_type": "stream",
     "text": [
      "[[9. 1. 7. 8. 5. 6. 2. 1. 2. 2. 8. 9.]\n",
      " [6. 9. 3. 0. 0. 3. 4. 9. 1. 2. 7. 7.]]\n",
      "[array([[9., 1., 7., 8.],\n",
      "       [6., 9., 3., 0.]]), array([[5., 6., 2., 1.],\n",
      "       [0., 3., 4., 9.]]), array([[2., 2., 8., 9.],\n",
      "       [1., 2., 7., 7.]])]\n",
      "[array([[9., 1., 7.],\n",
      "       [6., 9., 3.]]), array([[8.],\n",
      "       [0.]]), array([[5., 6., 2., 1., 2., 2., 8., 9.],\n",
      "       [0., 3., 4., 9., 1., 2., 7., 7.]])]\n",
      "[[2. 0.]\n",
      " [3. 2.]\n",
      " [8. 7.]\n",
      " [8. 3.]\n",
      " [4. 4.]\n",
      " [5. 4.]\n",
      " [2. 1.]\n",
      " [1. 5.]\n",
      " [0. 9.]\n",
      " [8. 6.]\n",
      " [4. 7.]\n",
      " [0. 2.]]\n"
     ]
    },
    {
     "data": {
      "text/plain": [
       "[array([[2., 0.],\n",
       "        [3., 2.],\n",
       "        [8., 7.],\n",
       "        [8., 3.]]), array([[4., 4.],\n",
       "        [5., 4.],\n",
       "        [2., 1.],\n",
       "        [1., 5.]]), array([[0., 9.],\n",
       "        [8., 6.],\n",
       "        [4., 7.],\n",
       "        [0., 2.]])]"
      ]
     },
     "execution_count": 11,
     "metadata": {},
     "output_type": "execute_result"
    }
   ],
   "source": [
    "a = np.floor(10*np.random.random((2,12)))\n",
    "print(a)\n",
    "print(np.hsplit(a,3))    # 随机切分成3份(按行)\n",
    "print(np.hsplit(a,(3,4)))   # Split a after the third and the fourth column，指定切分位置，在3处切分，然后在4处切分(按行)\n",
    "a = np.floor(10*np.random.random((12,2)))\n",
    "print(a)\n",
    "np.vsplit(a,3)      # 按列切分成3份"
   ]
  },
  {
   "cell_type": "code",
   "execution_count": 12,
   "metadata": {},
   "outputs": [
    {
     "name": "stdout",
     "output_type": "stream",
     "text": [
      "(3, 4)\n",
      "2259387061552\n",
      "2259387061552\n"
     ]
    }
   ],
   "source": [
    "#Simple assignments make no copy of array objects or of their data.\n",
    "a = np.arange(12)\n",
    "b = a     # b作为a的一个引用，引用也叫别名，指向同一块内存空间\n",
    "# a and b are two names for the same ndarray object\n",
    "b is a\n",
    "b.shape = 3,4\n",
    "print(a.shape)\n",
    "print(id(a))\n",
    "print(id(b))"
   ]
  },
  {
   "cell_type": "code",
   "execution_count": 14,
   "metadata": {},
   "outputs": [
    {
     "name": "stdout",
     "output_type": "stream",
     "text": [
      "False\n",
      "(3, 4)\n",
      "[[   0    1    2    3]\n",
      " [1234    5    6    7]\n",
      " [   8    9   10   11]]\n"
     ]
    }
   ],
   "source": [
    "#The view method creates a new array object that looks at the same data.\n",
    "c = a.view()   # 浅拷贝\n",
    "print(c is a)\n",
    "c.shape = 2,6\n",
    "print(a.shape)\n",
    "c[0,4] = 1234\n",
    "print(a)"
   ]
  },
  {
   "cell_type": "code",
   "execution_count": 16,
   "metadata": {},
   "outputs": [
    {
     "name": "stdout",
     "output_type": "stream",
     "text": [
      "False\n",
      "[[9999    1    2    3]\n",
      " [1234    5    6    7]\n",
      " [   8    9   10   11]]\n",
      "[[   0    1    2    3]\n",
      " [1234    5    6    7]\n",
      " [   8    9   10   11]]\n"
     ]
    }
   ],
   "source": [
    "#The copy method makes a complete copy of the array and its data.\n",
    "d = a.copy()   # 深拷贝，单独成份\n",
    "print(d is a)\n",
    "d[0,0] = 9999\n",
    "print(d) \n",
    "print(a)"
   ]
  }
 ],
 "metadata": {
  "kernelspec": {
   "display_name": "Python 3",
   "language": "python",
   "name": "python3"
  },
  "language_info": {
   "codemirror_mode": {
    "name": "ipython",
    "version": 3
   },
   "file_extension": ".py",
   "mimetype": "text/x-python",
   "name": "python",
   "nbconvert_exporter": "python",
   "pygments_lexer": "ipython3",
   "version": "3.7.3"
  }
 },
 "nbformat": 4,
 "nbformat_minor": 1
}
